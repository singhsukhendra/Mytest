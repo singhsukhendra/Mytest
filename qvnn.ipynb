{
  "nbformat": 4,
  "nbformat_minor": 0,
  "metadata": {
    "colab": {
      "name": "Untitled165.ipynb",
      "provenance": [],
      "authorship_tag": "ABX9TyPWDyoEQ8cvZt3W1REDBw5e",
      "include_colab_link": true
    },
    "kernelspec": {
      "name": "python3",
      "display_name": "Python 3"
    }
  },
  "cells": [
    {
      "cell_type": "markdown",
      "metadata": {
        "id": "view-in-github",
        "colab_type": "text"
      },
      "source": [
        "<a href=\"https://colab.research.google.com/github/singhsukhendra/Mytest/blob/master/qvnn.ipynb\" target=\"_parent\"><img src=\"https://colab.research.google.com/assets/colab-badge.svg\" alt=\"Open In Colab\"/></a>"
      ]
    },
    {
      "cell_type": "code",
      "metadata": {
        "id": "_XgLgGwM1Ynr",
        "colab_type": "code",
        "outputId": "73d63874-0b6a-420a-9fdd-d1f4ece53563",
        "colab": {
          "base_uri": "https://localhost:8080/",
          "height": 85
        }
      },
      "source": [
        "! git clone https://github.com/XYZ387/QuaternionCNN_Keras.git"
      ],
      "execution_count": 1,
      "outputs": [
        {
          "output_type": "stream",
          "text": [
            "Cloning into 'QuaternionCNN_Keras'...\n",
            "remote: Enumerating objects: 43, done.\u001b[K\n",
            "remote: Total 43 (delta 0), reused 0 (delta 0), pack-reused 43\u001b[K\n",
            "Unpacking objects: 100% (43/43), done.\n"
          ],
          "name": "stdout"
        }
      ]
    },
    {
      "cell_type": "code",
      "metadata": {
        "id": "aRGvFlug1b5w",
        "colab_type": "code",
        "outputId": "be736e92-72e6-444d-ad1b-0fb2a8d3aed5",
        "colab": {
          "base_uri": "https://localhost:8080/",
          "height": 1000
        }
      },
      "source": [
        "! python /content/QuaternionCNN_Keras/cifar10_cnn.py"
      ],
      "execution_count": 0,
      "outputs": [
        {
          "output_type": "stream",
          "text": [
            "Using TensorFlow backend.\n",
            "Downloading data from https://www.cs.toronto.edu/~kriz/cifar-10-python.tar.gz\n",
            "170500096/170498071 [==============================] - 4s 0us/step\n",
            "x_train shape: (50000, 32, 32, 3)\n",
            "50000 train samples\n",
            "10000 test samples\n",
            "WARNING:tensorflow:From /usr/local/lib/python3.6/dist-packages/keras/backend/tensorflow_backend.py:68: The name tf.get_default_graph is deprecated. Please use tf.compat.v1.get_default_graph instead.\n",
            "\n",
            "WARNING:tensorflow:From /usr/local/lib/python3.6/dist-packages/keras/backend/tensorflow_backend.py:504: The name tf.placeholder is deprecated. Please use tf.compat.v1.placeholder instead.\n",
            "\n",
            "WARNING:tensorflow:From /usr/local/lib/python3.6/dist-packages/keras/backend/tensorflow_backend.py:3652: The name tf.nn.max_pool is deprecated. Please use tf.nn.max_pool2d instead.\n",
            "\n",
            "WARNING:tensorflow:From /usr/local/lib/python3.6/dist-packages/keras/backend/tensorflow_backend.py:126: The name tf.placeholder_with_default is deprecated. Please use tf.compat.v1.placeholder_with_default instead.\n",
            "\n",
            "WARNING:tensorflow:From /usr/local/lib/python3.6/dist-packages/keras/backend/tensorflow_backend.py:3135: calling dropout (from tensorflow.python.ops.nn_ops) with keep_prob is deprecated and will be removed in a future version.\n",
            "Instructions for updating:\n",
            "Please use `rate` instead of `keep_prob`. Rate should be set to `rate = 1 - keep_prob`.\n",
            "WARNING:tensorflow:From /usr/local/lib/python3.6/dist-packages/keras/backend/tensorflow_backend.py:3828: The name tf.random_uniform is deprecated. Please use tf.random.uniform instead.\n",
            "\n",
            "WARNING:tensorflow:From /usr/local/lib/python3.6/dist-packages/keras/optimizers.py:744: The name tf.train.Optimizer is deprecated. Please use tf.compat.v1.train.Optimizer instead.\n",
            "\n",
            "WARNING:tensorflow:From /usr/local/lib/python3.6/dist-packages/keras/backend/tensorflow_backend.py:3005: The name tf.log is deprecated. Please use tf.math.log instead.\n",
            "\n",
            "Using real-time data augmentation.\n",
            "WARNING:tensorflow:From /usr/local/lib/python3.6/dist-packages/tensorflow_core/python/ops/math_grad.py:1424: where (from tensorflow.python.ops.array_ops) is deprecated and will be removed in a future version.\n",
            "Instructions for updating:\n",
            "Use tf.where in 2.0, which has the same broadcast rule as np.where\n",
            "WARNING:tensorflow:From /usr/local/lib/python3.6/dist-packages/keras/backend/tensorflow_backend.py:973: The name tf.assign_add is deprecated. Please use tf.compat.v1.assign_add instead.\n",
            "\n",
            "WARNING:tensorflow:Variable *= will be deprecated. Use `var.assign(var * other)` if you want assignment to the variable value or `x = x * y` if you want a new python Tensor object.\n",
            "WARNING:tensorflow:From /usr/local/lib/python3.6/dist-packages/keras/backend/tensorflow_backend.py:960: The name tf.assign is deprecated. Please use tf.compat.v1.assign instead.\n",
            "\n",
            "WARNING:tensorflow:From /usr/local/lib/python3.6/dist-packages/keras/backend/tensorflow_backend.py:2496: The name tf.Session is deprecated. Please use tf.compat.v1.Session instead.\n",
            "\n",
            "WARNING:tensorflow:From /usr/local/lib/python3.6/dist-packages/keras/backend/tensorflow_backend.py:166: The name tf.get_default_session is deprecated. Please use tf.compat.v1.get_default_session instead.\n",
            "\n",
            "WARNING:tensorflow:From /usr/local/lib/python3.6/dist-packages/keras/backend/tensorflow_backend.py:171: The name tf.ConfigProto is deprecated. Please use tf.compat.v1.ConfigProto instead.\n",
            "\n",
            "2020-03-07 15:38:35.425925: I tensorflow/core/platform/profile_utils/cpu_utils.cc:94] CPU Frequency: 2200000000 Hz\n",
            "2020-03-07 15:38:35.426485: I tensorflow/compiler/xla/service/service.cc:168] XLA service 0x1fc7100 initialized for platform Host (this does not guarantee that XLA will be used). Devices:\n",
            "2020-03-07 15:38:35.426525: I tensorflow/compiler/xla/service/service.cc:176]   StreamExecutor device (0): Host, Default Version\n",
            "2020-03-07 15:38:35.455069: I tensorflow/stream_executor/platform/default/dso_loader.cc:44] Successfully opened dynamic library libcuda.so.1\n",
            "2020-03-07 15:38:35.537935: E tensorflow/stream_executor/cuda/cuda_driver.cc:318] failed call to cuInit: CUDA_ERROR_NO_DEVICE: no CUDA-capable device is detected\n",
            "2020-03-07 15:38:35.537998: I tensorflow/stream_executor/cuda/cuda_diagnostics.cc:156] kernel driver does not appear to be running on this host (67e591f592fd): /proc/driver/nvidia/version does not exist\n",
            "WARNING:tensorflow:From /usr/local/lib/python3.6/dist-packages/keras/backend/tensorflow_backend.py:180: The name tf.global_variables is deprecated. Please use tf.compat.v1.global_variables instead.\n",
            "\n",
            "WARNING:tensorflow:From /usr/local/lib/python3.6/dist-packages/keras/backend/tensorflow_backend.py:189: The name tf.is_variable_initialized is deprecated. Please use tf.compat.v1.is_variable_initialized instead.\n",
            "\n",
            "WARNING:tensorflow:From /usr/local/lib/python3.6/dist-packages/keras/backend/tensorflow_backend.py:196: The name tf.variables_initializer is deprecated. Please use tf.compat.v1.variables_initializer instead.\n",
            "\n",
            "WARNING:tensorflow:From /usr/local/lib/python3.6/dist-packages/keras/callbacks.py:714: The name tf.summary.merge_all is deprecated. Please use tf.compat.v1.summary.merge_all instead.\n",
            "\n",
            "WARNING:tensorflow:From /usr/local/lib/python3.6/dist-packages/keras/callbacks.py:717: The name tf.summary.FileWriter is deprecated. Please use tf.compat.v1.summary.FileWriter instead.\n",
            "\n",
            "Epoch 1/30\n",
            "1562/1563 [============================>.] - ETA: 0s - loss: 1.7988 - acc: 0.3401WARNING:tensorflow:From /usr/local/lib/python3.6/dist-packages/keras/callbacks.py:800: The name tf.Summary is deprecated. Please use tf.compat.v1.Summary instead.\n",
            "\n",
            "1563/1563 [==============================] - 1572s 1s/step - loss: 1.7985 - acc: 0.3403 - val_loss: 1.4683 - val_acc: 0.4773\n",
            "Epoch 2/30\n",
            "1563/1563 [==============================] - 1572s 1s/step - loss: 1.4900 - acc: 0.4578 - val_loss: 1.2891 - val_acc: 0.5419\n",
            "Epoch 3/30\n",
            "1563/1563 [==============================] - 1568s 1s/step - loss: 1.3577 - acc: 0.5123 - val_loss: 1.1794 - val_acc: 0.5876\n",
            "Epoch 4/30\n",
            "1563/1563 [==============================] - 1582s 1s/step - loss: 1.2603 - acc: 0.5494 - val_loss: 1.0703 - val_acc: 0.6215\n",
            "Epoch 5/30\n",
            "1563/1563 [==============================] - 1587s 1s/step - loss: 1.1736 - acc: 0.5828 - val_loss: 1.0636 - val_acc: 0.6258\n",
            "Epoch 6/30\n",
            "1563/1563 [==============================] - 1591s 1s/step - loss: 1.1119 - acc: 0.6070 - val_loss: 1.0041 - val_acc: 0.6452\n",
            "Epoch 7/30\n",
            "1563/1563 [==============================] - 1590s 1s/step - loss: 1.0571 - acc: 0.6249 - val_loss: 0.8980 - val_acc: 0.6884\n",
            "Epoch 8/30\n",
            "1563/1563 [==============================] - 1585s 1s/step - loss: 1.0159 - acc: 0.6415 - val_loss: 0.8762 - val_acc: 0.6935\n",
            "Epoch 9/30\n",
            "1563/1563 [==============================] - 1575s 1s/step - loss: 0.9793 - acc: 0.6569 - val_loss: 0.9080 - val_acc: 0.6842\n",
            "Epoch 10/30\n",
            "1563/1563 [==============================] - 1598s 1s/step - loss: 0.9468 - acc: 0.6705 - val_loss: 0.8254 - val_acc: 0.7136\n",
            "Epoch 11/30\n",
            "1563/1563 [==============================] - 1594s 1s/step - loss: 0.9177 - acc: 0.6790 - val_loss: 0.8710 - val_acc: 0.6963\n",
            "Epoch 12/30\n",
            "1563/1563 [==============================] - 1595s 1s/step - loss: 0.8901 - acc: 0.6896 - val_loss: 0.7612 - val_acc: 0.7346\n",
            "Epoch 13/30\n",
            "1563/1563 [==============================] - 1595s 1s/step - loss: 0.8669 - acc: 0.6974 - val_loss: 0.7331 - val_acc: 0.7462\n",
            "Epoch 14/30\n",
            "1563/1563 [==============================] - 1584s 1s/step - loss: 0.8434 - acc: 0.7047 - val_loss: 0.7329 - val_acc: 0.7389\n",
            "Epoch 15/30\n",
            "1563/1563 [==============================] - 1594s 1s/step - loss: 0.8233 - acc: 0.7140 - val_loss: 0.6991 - val_acc: 0.7564\n",
            "Epoch 16/30\n",
            "1563/1563 [==============================] - 1597s 1s/step - loss: 0.8094 - acc: 0.7184 - val_loss: 0.6909 - val_acc: 0.7618\n",
            "Epoch 17/30\n",
            "1563/1563 [==============================] - 1587s 1s/step - loss: 0.7949 - acc: 0.7255 - val_loss: 0.7100 - val_acc: 0.7509\n",
            "Epoch 18/30\n",
            "1563/1563 [==============================] - 1596s 1s/step - loss: 0.7779 - acc: 0.7300 - val_loss: 0.6674 - val_acc: 0.7715\n",
            "Epoch 19/30\n",
            "1563/1563 [==============================] - 1589s 1s/step - loss: 0.7736 - acc: 0.7304 - val_loss: 0.6564 - val_acc: 0.7728\n",
            "Epoch 20/30\n",
            "1563/1563 [==============================] - 1590s 1s/step - loss: 0.7622 - acc: 0.7367 - val_loss: 0.6998 - val_acc: 0.7616\n",
            "Epoch 21/30\n",
            "1563/1563 [==============================] - 1581s 1s/step - loss: 0.7523 - acc: 0.7400 - val_loss: 0.6847 - val_acc: 0.7678\n",
            "Epoch 22/30\n",
            "1563/1563 [==============================] - 1587s 1s/step - loss: 0.7434 - acc: 0.7438 - val_loss: 0.6489 - val_acc: 0.7782\n",
            "Epoch 23/30\n",
            "1563/1563 [==============================] - 1588s 1s/step - loss: 0.7395 - acc: 0.7465 - val_loss: 0.7118 - val_acc: 0.7536\n",
            "Epoch 24/30\n",
            "1563/1563 [==============================] - 1583s 1s/step - loss: 0.7324 - acc: 0.7469 - val_loss: 0.6323 - val_acc: 0.7816\n",
            "Epoch 25/30\n",
            "1563/1563 [==============================] - 1582s 1s/step - loss: 0.7215 - acc: 0.7526 - val_loss: 0.6097 - val_acc: 0.7901\n",
            "Epoch 26/30\n",
            "1563/1563 [==============================] - 1592s 1s/step - loss: 0.7130 - acc: 0.7560 - val_loss: 0.6068 - val_acc: 0.7904\n",
            "Epoch 27/30\n",
            " 398/1563 [======>.......................] - ETA: 18:55 - loss: 0.7056 - acc: 0.7626"
          ],
          "name": "stdout"
        }
      ]
    },
    {
      "cell_type": "code",
      "metadata": {
        "id": "b7ua1Gp82hqH",
        "colab_type": "code",
        "outputId": "1038f1d0-01e0-4510-aae3-74306544a15a",
        "colab": {
          "base_uri": "https://localhost:8080/",
          "height": 258
        }
      },
      "source": [
        "! pip install keras==\"2.1.3\""
      ],
      "execution_count": 2,
      "outputs": [
        {
          "output_type": "stream",
          "text": [
            "Collecting keras==2.1.3\n",
            "\u001b[?25l  Downloading https://files.pythonhosted.org/packages/08/ae/7f94a03cb3f74cdc8a0f5f86d1df5c1dd686acb9a9c2a421c64f8497358e/Keras-2.1.3-py2.py3-none-any.whl (319kB)\n",
            "\r\u001b[K     |█                               | 10kB 16.8MB/s eta 0:00:01\r\u001b[K     |██                              | 20kB 3.1MB/s eta 0:00:01\r\u001b[K     |███                             | 30kB 3.7MB/s eta 0:00:01\r\u001b[K     |████                            | 40kB 2.9MB/s eta 0:00:01\r\u001b[K     |█████▏                          | 51kB 3.3MB/s eta 0:00:01\r\u001b[K     |██████▏                         | 61kB 3.9MB/s eta 0:00:01\r\u001b[K     |███████▏                        | 71kB 4.1MB/s eta 0:00:01\r\u001b[K     |████████▏                       | 81kB 4.3MB/s eta 0:00:01\r\u001b[K     |█████████▎                      | 92kB 4.8MB/s eta 0:00:01\r\u001b[K     |██████████▎                     | 102kB 4.7MB/s eta 0:00:01\r\u001b[K     |███████████▎                    | 112kB 4.7MB/s eta 0:00:01\r\u001b[K     |████████████▎                   | 122kB 4.7MB/s eta 0:00:01\r\u001b[K     |█████████████▎                  | 133kB 4.7MB/s eta 0:00:01\r\u001b[K     |██████████████▍                 | 143kB 4.7MB/s eta 0:00:01\r\u001b[K     |███████████████▍                | 153kB 4.7MB/s eta 0:00:01\r\u001b[K     |████████████████▍               | 163kB 4.7MB/s eta 0:00:01\r\u001b[K     |█████████████████▍              | 174kB 4.7MB/s eta 0:00:01\r\u001b[K     |██████████████████▌             | 184kB 4.7MB/s eta 0:00:01\r\u001b[K     |███████████████████▌            | 194kB 4.7MB/s eta 0:00:01\r\u001b[K     |████████████████████▌           | 204kB 4.7MB/s eta 0:00:01\r\u001b[K     |█████████████████████▌          | 215kB 4.7MB/s eta 0:00:01\r\u001b[K     |██████████████████████▋         | 225kB 4.7MB/s eta 0:00:01\r\u001b[K     |███████████████████████▋        | 235kB 4.7MB/s eta 0:00:01\r\u001b[K     |████████████████████████▋       | 245kB 4.7MB/s eta 0:00:01\r\u001b[K     |█████████████████████████▋      | 256kB 4.7MB/s eta 0:00:01\r\u001b[K     |██████████████████████████▋     | 266kB 4.7MB/s eta 0:00:01\r\u001b[K     |███████████████████████████▊    | 276kB 4.7MB/s eta 0:00:01\r\u001b[K     |████████████████████████████▊   | 286kB 4.7MB/s eta 0:00:01\r\u001b[K     |█████████████████████████████▊  | 296kB 4.7MB/s eta 0:00:01\r\u001b[K     |██████████████████████████████▊ | 307kB 4.7MB/s eta 0:00:01\r\u001b[K     |███████████████████████████████▉| 317kB 4.7MB/s eta 0:00:01\r\u001b[K     |████████████████████████████████| 327kB 4.7MB/s \n",
            "\u001b[?25hRequirement already satisfied: pyyaml in /usr/local/lib/python3.6/dist-packages (from keras==2.1.3) (3.13)\n",
            "Requirement already satisfied: numpy>=1.9.1 in /usr/local/lib/python3.6/dist-packages (from keras==2.1.3) (1.17.5)\n",
            "Requirement already satisfied: six>=1.9.0 in /usr/local/lib/python3.6/dist-packages (from keras==2.1.3) (1.12.0)\n",
            "Requirement already satisfied: scipy>=0.14 in /usr/local/lib/python3.6/dist-packages (from keras==2.1.3) (1.4.1)\n",
            "\u001b[31mERROR: textgenrnn 1.4.1 has requirement keras>=2.1.5, but you'll have keras 2.1.3 which is incompatible.\u001b[0m\n",
            "Installing collected packages: keras\n",
            "  Found existing installation: Keras 2.2.5\n",
            "    Uninstalling Keras-2.2.5:\n",
            "      Successfully uninstalled Keras-2.2.5\n",
            "Successfully installed keras-2.1.3\n"
          ],
          "name": "stdout"
        }
      ]
    },
    {
      "cell_type": "code",
      "metadata": {
        "id": "4dZCoy2GkNp0",
        "colab_type": "code",
        "colab": {
          "base_uri": "https://localhost:8080/",
          "height": 428
        },
        "outputId": "48cade49-1e10-4ae3-d621-1e5cec3571af"
      },
      "source": [
        "! python /content/QuaternionCNN_Keras/denoising.py"
      ],
      "execution_count": 7,
      "outputs": [
        {
          "output_type": "stream",
          "text": [
            "Using TensorFlow backend.\n",
            "WARNING:tensorflow:From /usr/local/lib/python3.6/dist-packages/keras/backend/tensorflow_backend.py:68: The name tf.get_default_graph is deprecated. Please use tf.compat.v1.get_default_graph instead.\n",
            "\n",
            "WARNING:tensorflow:From /usr/local/lib/python3.6/dist-packages/keras/backend/tensorflow_backend.py:504: The name tf.placeholder is deprecated. Please use tf.compat.v1.placeholder instead.\n",
            "\n",
            "WARNING:tensorflow:From /usr/local/lib/python3.6/dist-packages/keras/backend/tensorflow_backend.py:3656: The name tf.nn.avg_pool is deprecated. Please use tf.nn.avg_pool2d instead.\n",
            "\n",
            "WARNING:tensorflow:From /usr/local/lib/python3.6/dist-packages/keras/backend/tensorflow_backend.py:1937: The name tf.image.resize_nearest_neighbor is deprecated. Please use tf.compat.v1.image.resize_nearest_neighbor instead.\n",
            "\n",
            "/content/QuaternionCNN_Keras/denoising.py:120: UserWarning: Viewer requires Qt\n",
            "  from skimage.viewer import ImageViewer\n",
            "WARNING:tensorflow:From /usr/local/lib/python3.6/dist-packages/keras/optimizers.py:744: The name tf.train.Optimizer is deprecated. Please use tf.compat.v1.train.Optimizer instead.\n",
            "\n",
            "Traceback (most recent call last):\n",
            "  File \"/content/QuaternionCNN_Keras/denoising.py\", line 138, in <module>\n",
            "    loss = autoencoder.train_on_batch(noise, true)\n",
            "  File \"/usr/local/lib/python3.6/dist-packages/keras/engine/training.py\", line 1843, in train_on_batch\n",
            "    check_batch_axis=True)\n",
            "  File \"/usr/local/lib/python3.6/dist-packages/keras/engine/training.py\", line 1426, in _standardize_user_data\n",
            "    exception_prefix='input')\n",
            "  File \"/usr/local/lib/python3.6/dist-packages/keras/engine/training.py\", line 110, in _standardize_input_data\n",
            "    'with shape ' + str(data_shape))\n",
            "ValueError: Error when checking input: expected input_1 to have 4 dimensions, but got array with shape (0, 1)\n"
          ],
          "name": "stdout"
        }
      ]
    },
    {
      "cell_type": "code",
      "metadata": {
        "id": "Zn92xRCmkPSA",
        "colab_type": "code",
        "colab": {}
      },
      "source": [
        ""
      ],
      "execution_count": 0,
      "outputs": []
    }
  ]
}